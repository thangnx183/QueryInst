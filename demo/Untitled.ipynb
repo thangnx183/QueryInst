{
 "cells": [
  {
   "cell_type": "code",
   "execution_count": 1,
   "id": "1b2d23ea",
   "metadata": {},
   "outputs": [],
   "source": [
    "import numpy as np\n",
    "import json\n",
    "import cv2\n",
    "from pathlib import Path\n",
    "import copy"
   ]
  },
  {
   "cell_type": "code",
   "execution_count": 2,
   "id": "727adfb2",
   "metadata": {},
   "outputs": [],
   "source": [
    "path = Path('/mmdetection/data/loose')"
   ]
  },
  {
   "cell_type": "code",
   "execution_count": 3,
   "id": "c09099af",
   "metadata": {},
   "outputs": [
    {
     "name": "stdout",
     "output_type": "stream",
     "text": [
      "7541 11252\n"
     ]
    }
   ],
   "source": [
    "t = json.load(open(path/'annotations'/'train.json'))\n",
    "print(len(t['images']),len(t['annotations']))"
   ]
  },
  {
   "cell_type": "code",
   "execution_count": 4,
   "id": "1277df45",
   "metadata": {},
   "outputs": [],
   "source": [
    "def check_none_gt(js):\n",
    "    ids = [i['id'] for i in js['images']]\n",
    "    ids_in_annotations = list(set([a['image_id'] for a in js['annotations']]))\n",
    "    \n",
    "    print('number of images have none annotations : ',len(ids)-len(ids_in_annotations))\n",
    "    none_images = list(set(ids) - set(ids_in_annotations))\n",
    "    \n",
    "    out = copy.deepcopy(js)\n",
    "    out['images'] = [i for i in out['images'] if i['id'] not in none_images]\n",
    "    \n",
    "    return out\n",
    "\n",
    "def write_json(js, write_path):\n",
    "    with open(write_path, 'w', encoding='utf-8') as f:\n",
    "        json.dump(js, f, ensure_ascii=False, indent=4)"
   ]
  },
  {
   "cell_type": "code",
   "execution_count": 5,
   "id": "c367325e",
   "metadata": {},
   "outputs": [
    {
     "name": "stdout",
     "output_type": "stream",
     "text": [
      "number of images have none annotations :  0\n"
     ]
    }
   ],
   "source": [
    "t = check_none_gt(t)\n"
   ]
  },
  {
   "cell_type": "code",
   "execution_count": 48,
   "id": "664edc93",
   "metadata": {},
   "outputs": [
    {
     "name": "stdout",
     "output_type": "stream",
     "text": [
      "1616 2449\n"
     ]
    }
   ],
   "source": [
    "print(len(t['images']),len(t['annotations']))"
   ]
  },
  {
   "cell_type": "code",
   "execution_count": 49,
   "id": "ae3ec6a8",
   "metadata": {},
   "outputs": [],
   "source": [
    "#write_json(t,path/'annotations'/'test.json')"
   ]
  },
  {
   "cell_type": "code",
   "execution_count": 7,
   "id": "da35d0c6",
   "metadata": {},
   "outputs": [
    {
     "name": "stdout",
     "output_type": "stream",
     "text": [
      "7541 11252\n"
     ]
    }
   ],
   "source": [
    "ids = [i['id'] for i in t['images']]\n",
    "anos = [a for a in t['annotations'] if a['image_id'] in ids]\n",
    "print(len(ids),len(anos))"
   ]
  },
  {
   "cell_type": "code",
   "execution_count": null,
   "id": "88aaec9c",
   "metadata": {},
   "outputs": [],
   "source": []
  }
 ],
 "metadata": {
  "kernelspec": {
   "display_name": "Python 3",
   "language": "python",
   "name": "python3"
  },
  "language_info": {
   "codemirror_mode": {
    "name": "ipython",
    "version": 3
   },
   "file_extension": ".py",
   "mimetype": "text/x-python",
   "name": "python",
   "nbconvert_exporter": "python",
   "pygments_lexer": "ipython3",
   "version": "3.7.7"
  }
 },
 "nbformat": 4,
 "nbformat_minor": 5
}
